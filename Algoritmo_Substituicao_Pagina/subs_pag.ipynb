{
 "cells": [
  {
   "attachments": {},
   "cell_type": "markdown",
   "metadata": {},
   "source": [
    "##### Inicializações "
   ]
  },
  {
   "cell_type": "code",
   "execution_count": 19,
   "metadata": {},
   "outputs": [],
   "source": [
    "import random\n",
    "import os\n",
    "\n",
    "RAM_SIZE = 4096\n",
    "SWAP_SIZE = 4096\n",
    "\n",
    "# Classe apenas para parar a execução do algoritmo de forma limpa\n",
    "class StopExecution(Exception):\n",
    "    def _render_traceback_(self):\n",
    "        pass"
   ]
  },
  {
   "attachments": {},
   "cell_type": "markdown",
   "metadata": {},
   "source": [
    "##### Gerar o Arquivo de Inicialização"
   ]
  },
  {
   "cell_type": "code",
   "execution_count": 20,
   "metadata": {},
   "outputs": [],
   "source": [
    "random.seed(1) # Para gerar sempre a mesma sequência de números aleatórios\n",
    "\n",
    "my_list = range(0, RAM_SIZE + SWAP_SIZE)\n",
    "random_list = random.sample(my_list, len(my_list))\n",
    "\n",
    "arquivo = open('valores_iniciais.txt', 'w')\n",
    "\n",
    "for e in random_list:\n",
    "    arquivo.write(str(e) + '\\n')\n",
    "\n",
    "arquivo.close()\n"
   ]
  },
  {
   "attachments": {},
   "cell_type": "markdown",
   "metadata": {},
   "source": [
    "##### Gerar Arquivos para Teste"
   ]
  },
  {
   "cell_type": "code",
   "execution_count": 26,
   "metadata": {},
   "outputs": [],
   "source": [
    "# Valores a serem modificados\n",
    "NUM_ACESSOS = 1000000\n",
    "DESVIO_PADRAO = 0 # Valor em porcentagem!\n",
    "MODIFICADO = 20 # Porcentagem de chance de ser modificado\n",
    "\n",
    "# Verifica se os valores estão dentro do esperado\n",
    "if(0 > DESVIO_PADRAO or DESVIO_PADRAO > 50):\n",
    "    print('Desvio padrão deve estar entre 0 e 50')\n",
    "    raise StopExecution\n",
    "\n",
    "# Cria a pasta Testes caso ela não exista\n",
    "if not os.path.exists('./Testes'):\n",
    "  os.mkdir('./Testes')\n",
    "\n",
    "# Verifica se o arquivo a ser criado já existe\n",
    "i = 1\n",
    "while os.path.exists(f'./Testes/teste{i}_NA{NUM_ACESSOS}_DP{DESVIO_PADRAO}.txt'):\n",
    "    i += 1\n",
    "\n",
    "arquivo = open(f'Testes/teste{i}_NA{NUM_ACESSOS}_DP{DESVIO_PADRAO}.txt', 'w') # Cria o arquivo para esse teste\n",
    "\n",
    "desvio_padrao_real = (RAM_SIZE + SWAP_SIZE) * (DESVIO_PADRAO / 100)\n",
    "\n",
    "my_list = range(0, RAM_SIZE + SWAP_SIZE) # Lista com todos os valores possíveis\n",
    "media = (RAM_SIZE + SWAP_SIZE) / 2\n",
    "\n",
    "arquivo.write(str(NUM_ACESSOS) + '\\n') # Primeira linha do arquivo é o número de acessos\n",
    "\n",
    "# Calcula o valor aleatório com base na média e no desvio padrão (como mencionado em aula)\n",
    "for i in range(NUM_ACESSOS):\n",
    "    value = int(random.normalvariate(media, desvio_padrao_real))\n",
    "    while value not in my_list:\n",
    "        value = int(random.normalvariate(media, desvio_padrao_real))\n",
    "    \n",
    "    modificado = random.choices([0, 1], weights=[(100 - MODIFICADO), MODIFICADO])[0] \n",
    "\n",
    "    arquivo.write(str(modificado) + ' ' + str(value) + '\\n')\n",
    "\n",
    "arquivo.close()"
   ]
  }
 ],
 "metadata": {
  "kernelspec": {
   "display_name": "base",
   "language": "python",
   "name": "python3"
  },
  "language_info": {
   "codemirror_mode": {
    "name": "ipython",
    "version": 3
   },
   "file_extension": ".py",
   "mimetype": "text/x-python",
   "name": "python",
   "nbconvert_exporter": "python",
   "pygments_lexer": "ipython3",
   "version": "3.9.12"
  },
  "orig_nbformat": 4
 },
 "nbformat": 4,
 "nbformat_minor": 2
}
