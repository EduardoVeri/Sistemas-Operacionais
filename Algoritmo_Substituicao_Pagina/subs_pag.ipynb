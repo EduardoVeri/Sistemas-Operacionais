{
 "cells": [
  {
   "cell_type": "code",
   "execution_count": 9,
   "metadata": {},
   "outputs": [],
   "source": [
    "import random\n",
    "\n",
    "RAM_SIZE = 4096\n",
    "SWAP_SIZE = 4096\n",
    "\n",
    "random.seed(1) # Para gerar sempre a mesma sequência de números aleatórios\n",
    "\n",
    "my_list = range(0, RAM_SIZE + SWAP_SIZE)\n",
    "random_list = random.sample(my_list, len(my_list))\n",
    "\n",
    "arquivo = open('inicializao.txt', 'w')\n",
    "\n",
    "for e in random_list:\n",
    "    arquivo.write(str(e) + '\\n')\n"
   ]
  },
  {
   "cell_type": "code",
   "execution_count": null,
   "metadata": {},
   "outputs": [],
   "source": []
  }
 ],
 "metadata": {
  "kernelspec": {
   "display_name": "base",
   "language": "python",
   "name": "python3"
  },
  "language_info": {
   "codemirror_mode": {
    "name": "ipython",
    "version": 3
   },
   "file_extension": ".py",
   "mimetype": "text/x-python",
   "name": "python",
   "nbconvert_exporter": "python",
   "pygments_lexer": "ipython3",
   "version": "3.9.12"
  },
  "orig_nbformat": 4
 },
 "nbformat": 4,
 "nbformat_minor": 2
}
