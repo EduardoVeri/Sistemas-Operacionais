{
 "cells": [
  {
   "cell_type": "code",
   "execution_count": null,
   "metadata": {
    "id": "nEC9czT5W-_r"
   },
   "outputs": [],
   "source": [
    "import pandas as pd\n",
    "\n",
    "tests=pd.DataFrame()\n",
    "for i in range(1, 6):\n",
    "    arquivo = f\"/content/Testes Bonani/original_0{i}.txt\"\n",
    "\n",
    "    # Ler o arquivo de texto e criar um DataFrame temporário\n",
    "    temp_df = pd.read_csv(arquivo, sep='\\t', header=None, names=['tipo', 'metrica', 'valor'])\n",
    "\n",
    "    # Adicionar as colunas 'Process_Number' e 'Percentage' ao DataFrame temporário\n",
    "    temp_df['Test_Number'] = i\n",
    "    temp_df['Percentage'] = 'original'\n",
    "    # Anexar o DataFrame temporário ao DataFrame principal 'tests'\n",
    "    tests = pd.concat([tests, temp_df], ignore_index=True)\n",
    "\n",
    "for percent in range(0,100,10):\n",
    "\n",
    "  for i in range(1, 6):\n",
    "      arquivo = f\"/content/Testes Bonani/alt_{percent}_{i}.txt\"\n",
    "\n",
    "     # Ler o arquivo de texto e criar um DataFrame temporário\n",
    "      temp_df = pd.read_csv(arquivo, sep='\\t', header=None, names=['tipo', 'metrica', 'valor'])\n",
    "\n",
    "     # Adicionar as colunas 'Process_Number' e 'Percentage' ao DataFrame temporário\n",
    "      temp_df['Test_Number'] = i\n",
    "      temp_df['Percentage'] = percent\n",
    "     # Anexar o DataFrame temporário ao DataFrame principal 'tests'\n",
    "      tests = pd.concat([tests, temp_df], ignore_index=True)\n"
   ]
  },
  {
   "cell_type": "code",
   "execution_count": null,
   "metadata": {
    "colab": {
     "base_uri": "https://localhost:8080/",
     "height": 424
    },
    "id": "2jTF4f7KxNUc",
    "outputId": "a7da51b5-bffb-43d0-a6dc-4cb08c9bdb7f"
   },
   "outputs": [],
   "source": [
    "tests"
   ]
  },
  {
   "cell_type": "code",
   "execution_count": null,
   "metadata": {
    "colab": {
     "base_uri": "https://localhost:8080/",
     "height": 1000
    },
    "id": "QZtGofyMXpIU",
    "outputId": "24fa95b6-6bf5-47ee-c49d-4f0cea155255"
   },
   "outputs": [],
   "source": [
    "import seaborn as sns\n",
    "import matplotlib.pyplot as plt\n",
    "\n",
    "def create_boxplot(data, type):\n",
    "    fig = plt.figure(figsize=(20, 10))\n",
    "    sns.boxplot(data=data[data['tipo'] == type], x='Test_Number', y='valor', hue='Percentage',palette='Set3')\n",
    "    plt.title(f'Boxplots para o tipo \"{type}\"')\n",
    "    plt.legend(title='Porcentagem')\n",
    "    plt.show()\n",
    "\n",
    "# Criar os boxplots para cada tipo\n",
    "for type in ['IO', 'CPU']:\n",
    "    create_boxplot(tests, type)\n"
   ]
  },
  {
   "cell_type": "code",
   "execution_count": null,
   "metadata": {
    "colab": {
     "base_uri": "https://localhost:8080/",
     "height": 1000
    },
    "id": "hoiJt-xfUbpP",
    "outputId": "d70ddbfb-ac10-4729-ca54-64e99cdead0d"
   },
   "outputs": [],
   "source": [
    "import seaborn as sns\n",
    "import matplotlib.pyplot as plt\n",
    "\n",
    "def create_boxplots(data):\n",
    "    fig, axes = plt.subplots(2, 1, figsize=(12, 10))\n",
    "\n",
    "    for i, type in enumerate(['IO', 'CPU']):\n",
    "        ax = axes[i]\n",
    "        sns.boxplot(data=data[data['tipo'] == type], x='Percentage', y='valor', ax=ax)\n",
    "        ax.set_title(f'Boxplots para o tipo \"{type}\"')\n",
    "        ax.set_xlabel('Percentage')\n",
    "        ax.set_ylabel('Valor')\n",
    "\n",
    "    plt.tight_layout()\n",
    "    plt.show()\n",
    "\n",
    "# Concatenar os dados de cada teste para cada percentual\n",
    "concatenated_data = pd.DataFrame()\n",
    "\n",
    "for percentage in range(0, 100, 10):\n",
    "    temp_data = pd.DataFrame()\n",
    "\n",
    "    for i in range(1, 6):\n",
    "        temp_data = pd.concat([temp_data, tests[(tests['Percentage'] == percentage) & (tests['Test_Number'] == i)]])\n",
    "    temp_data['Test_Number'] = 'All Tests'\n",
    "    concatenated_data = pd.concat([concatenated_data, temp_data])\n",
    "\n",
    "# Criar os boxplots para os dados concatenados\n",
    "create_boxplots(concatenated_data)\n"
   ]
  },
  {
   "cell_type": "code",
   "execution_count": null,
   "metadata": {
    "colab": {
     "base_uri": "https://localhost:8080/",
     "height": 1000
    },
    "id": "rhFmoL9XVptV",
    "outputId": "104bbb23-6e73-42ef-94e5-a973198f8ef7"
   },
   "outputs": [],
   "source": [
    "import seaborn as sns\n",
    "import matplotlib.pyplot as plt\n",
    "\n",
    "def create_boxplot(data, type):\n",
    "    plt.figure(figsize=(12, 6))\n",
    "    sns.boxplot(data=data[data['tipo'] == type], x='Percentage', y='valor', palette='Set3')\n",
    "    plt.title(f'Boxplot para o tipo \"{type}\"')\n",
    "    plt.xlabel('Percentage')\n",
    "    plt.ylabel('Valor')\n",
    "    plt.show()\n",
    "\n",
    "# Concatenar os dados de cada teste para cada percentual\n",
    "concatenated_data = pd.DataFrame()\n",
    "og_data=pd.DataFrame()\n",
    "\n",
    "for i in range(1, 6):\n",
    "    og_data = og_data.append(tests[(tests['Percentage'] == 'original') & (tests['Test_Number'] == i)])\n",
    "\n",
    "og_data['Test_Number'] = 'All Tests'\n",
    "concatenated_data = pd.concat([concatenated_data, og_data])\n",
    "\n",
    "for percentage in range(0, 100, 10):\n",
    "    temp_data = pd.DataFrame()\n",
    "\n",
    "    for i in range(1, 6):\n",
    "        temp_data = temp_data.append(tests[(tests['Percentage'] == percentage) & (tests['Test_Number'] == i)])\n",
    "\n",
    "    temp_data['Test_Number'] = 'All Tests'\n",
    "    concatenated_data = pd.concat([concatenated_data, temp_data])\n",
    "\n",
    "# Gerar os boxplots para os dados concatenados\n",
    "for type in ['IO', 'CPU']:\n",
    "    create_boxplot(concatenated_data, type)\n"
   ]
  },
  {
   "cell_type": "code",
   "execution_count": null,
   "metadata": {
    "id": "NMNj08_U0fFm"
   },
   "outputs": [],
   "source": [
    "import pandas as pd\n",
    "\n",
    "tests=pd.DataFrame()\n",
    "\n",
    "\n",
    "for percent in range(25,76,25):\n",
    "  for i in range(1, 6):\n",
    "    arquivo = f\"/content/Testes 25/original_{percent}_0{i}.txt\"\n",
    "\n",
    "    # Ler o arquivo de texto e criar um DataFrame temporário\n",
    "    temp_df = pd.read_csv(arquivo, sep='\\t', header=None, names=['tipo', 'metrica', 'valor'])\n",
    "\n",
    "    # Adicionar as colunas 'Process_Number' e 'Percentage' ao DataFrame temporário\n",
    "    temp_df['Test_Number'] = i\n",
    "    temp_df['Processos'] = f'original_{percent}'\n",
    "    # Anexar o DataFrame temporário ao DataFrame principal 'tests'\n",
    "    tests = pd.concat([tests, temp_df], ignore_index=True)\n",
    "\n",
    "  for i in range(1, 6):\n",
    "      arquivo = f\"/content/Testes 25/alt_{percent}_{i}.txt\"\n",
    "\n",
    "     # Ler o arquivo de texto e criar um DataFrame temporário\n",
    "      temp_df = pd.read_csv(arquivo, sep='\\t', header=None, names=['tipo', 'metrica', 'valor'])\n",
    "\n",
    "     # Adicionar as colunas 'Process_Number' e 'Percentage' ao DataFrame temporário\n",
    "      temp_df['Test_Number'] = i\n",
    "      temp_df['Processos'] = f'alterado_{percent}'\n",
    "     # Anexar o DataFrame temporário ao DataFrame principal 'tests'\n",
    "      tests = pd.concat([tests, temp_df], ignore_index=True)"
   ]
  },
  {
   "cell_type": "code",
   "execution_count": null,
   "metadata": {
    "colab": {
     "base_uri": "https://localhost:8080/",
     "height": 424
    },
    "id": "yzhpXMCY0m5v",
    "outputId": "4ec65bd4-4f0c-4d81-cf7a-36e4ec45aa20"
   },
   "outputs": [],
   "source": [
    "tests"
   ]
  },
  {
   "cell_type": "code",
   "execution_count": null,
   "metadata": {
    "colab": {
     "base_uri": "https://localhost:8080/",
     "height": 1000
    },
    "id": "eNOLuFF11Q_3",
    "outputId": "c1de2aa1-ed3f-4e11-9af9-8a415dd376d0"
   },
   "outputs": [],
   "source": [
    "import seaborn as sns\n",
    "import matplotlib.pyplot as plt\n",
    "\n",
    "def create_boxplot(data, type):\n",
    "    plt.figure(figsize=(8, 6))\n",
    "    sns.boxplot(data=data[data['tipo'] == type], x='Processos', y='valor', palette='Set3')\n",
    "    plt.title(f'Boxplot para o tipo \"{type}\"')\n",
    "    plt.xlabel('Processos')\n",
    "    plt.ylabel('Valor')\n",
    "    plt.show()\n",
    "\n",
    "# Concatenar os dados de cada teste para cada percentual\n",
    "concatenated_data = pd.DataFrame()\n",
    "for percentage in [25, 50, 75]:\n",
    "    temp_data = pd.DataFrame()\n",
    "\n",
    "    for i in range(1, 6):\n",
    "        temp_data = temp_data.append(tests[(tests['Processos'] == f'original_{percentage}') & (tests['Test_Number'] == i)])\n",
    "\n",
    "    temp_data['Test_Number'] = 'All Tests'\n",
    "    print(temp_data)\n",
    "    concatenated_data = pd.concat([concatenated_data, temp_data])\n",
    "\n",
    "    for i in range(1, 6):\n",
    "        temp_data = temp_data.append(tests[(tests['Processos'] == f'alterado_{percentage}') & (tests['Test_Number'] == i)])\n",
    "\n",
    "    temp_data['Test_Number'] = 'All Tests'\n",
    "    concatenated_data = pd.concat([concatenated_data, temp_data])\n",
    "\n",
    "# Gerar os boxplots para os dados concatenados\n",
    "for type in ['IO', 'CPU']:\n",
    "    create_boxplot(concatenated_data, type)\n",
    "\n"
   ]
  },
  {
   "cell_type": "code",
   "execution_count": null,
   "metadata": {
    "id": "_XstUHroI1UJ"
   },
   "outputs": [],
   "source": [
    "import pandas as pd\n",
    "\n",
    "tests=pd.DataFrame()\n",
    "for i in range(1, 4):\n",
    "    arquivo = f\"/content/Teste Edu/original_{i}.txt\"\n",
    "\n",
    "    # Ler o arquivo de texto e criar um DataFrame temporário\n",
    "    temp_df = pd.read_csv(arquivo, sep='\\t', header=None, names=['tipo', 'metrica', 'valor'])\n",
    "\n",
    "    # Adicionar as colunas 'Process_Number' e 'Percentage' ao DataFrame temporário\n",
    "    temp_df['Test_Number'] = i\n",
    "    temp_df['Percentage'] = 'original'\n",
    "    # Anexar o DataFrame temporário ao DataFrame principal 'tests'\n",
    "    tests = pd.concat([tests, temp_df], ignore_index=True)\n",
    "\n",
    "for percent in range(0,100,10):\n",
    "\n",
    "  for i in range(1, 4):\n",
    "      arquivo = f\"/content/Teste Edu/alt_{percent}_{i}.txt\"\n",
    "\n",
    "     # Ler o arquivo de texto e criar um DataFrame temporário\n",
    "      temp_df = pd.read_csv(arquivo, sep='\\t', header=None, names=['tipo', 'metrica', 'valor'])\n",
    "\n",
    "     # Adicionar as colunas 'Process_Number' e 'Percentage' ao DataFrame temporário\n",
    "      temp_df['Test_Number'] = i\n",
    "      temp_df['Percentage'] = percent\n",
    "     # Anexar o DataFrame temporário ao DataFrame principal 'tests'\n",
    "      tests = pd.concat([tests, temp_df], ignore_index=True)"
   ]
  },
  {
   "cell_type": "code",
   "execution_count": null,
   "metadata": {
    "colab": {
     "base_uri": "https://localhost:8080/",
     "height": 1000
    },
    "id": "uWPMKLznFLaX",
    "outputId": "7fc99c37-eebe-4efa-e502-5d805bd82fb4"
   },
   "outputs": [],
   "source": [
    "import seaborn as sns\n",
    "import matplotlib.pyplot as plt\n",
    "\n",
    "def create_boxplot(data, type):\n",
    "    plt.figure(figsize=(12, 6))\n",
    "    sns.boxplot(data=data[data['tipo'] == type], x='Percentage', y='valor', palette='Set3')\n",
    "    plt.title(f'Boxplot para o tipo \"{type}\"')\n",
    "    plt.xlabel('Percentage')\n",
    "    plt.ylabel('Valor')\n",
    "    plt.show()\n",
    "\n",
    "# Concatenar os dados de cada teste para cada percentual\n",
    "concatenated_data = pd.DataFrame()\n",
    "og_data=pd.DataFrame()\n",
    "\n",
    "for i in range(1, 6):\n",
    "    og_data = og_data.append(tests[(tests['Percentage'] == 'original') & (tests['Test_Number'] == i)])\n",
    "\n",
    "og_data['Test_Number'] = 'All Tests'\n",
    "concatenated_data = pd.concat([concatenated_data, og_data])\n",
    "\n",
    "for percentage in range(0, 100, 10):\n",
    "    temp_data = pd.DataFrame()\n",
    "\n",
    "    for i in range(1, 6):\n",
    "        temp_data = temp_data.append(tests[(tests['Percentage'] == percentage) & (tests['Test_Number'] == i)])\n",
    "\n",
    "    temp_data['Test_Number'] = 'All Tests'\n",
    "    concatenated_data = pd.concat([concatenated_data, temp_data])\n",
    "\n",
    "# Gerar os boxplots para os dados concatenados\n",
    "for type in ['IO', 'CPU']:\n",
    "    create_boxplot(concatenated_data, type)"
   ]
  }
 ],
 "metadata": {
  "colab": {
   "provenance": []
  },
  "kernelspec": {
   "display_name": "Python 3",
   "name": "python3"
  },
  "language_info": {
   "name": "python"
  }
 },
 "nbformat": 4,
 "nbformat_minor": 0
}
